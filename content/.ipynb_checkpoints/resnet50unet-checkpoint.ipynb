{
 "cells": [
  {
   "cell_type": "markdown",
   "metadata": {},
   "source": [
    "Title: First Post\n",
    "Slug: first-post\n",
    "Date: 2018-10-22\n",
    "Category: posts\n",
    "Tags: python firsts\n",
    "author: Chris Dinant\n",
    "Summary: My first post, read it to find out.\n"
   ]
  },
  {
   "cell_type": "code",
   "execution_count": 17,
   "metadata": {
    "Category": "posts",
    "Date": "2018-10-22",
    "Slug": "first-post",
    "Summary": "My first post, read it to find out.",
    "Tags": "python firsts",
    "Title": "First Post",
    "author": "Chris Dinant"
   },
   "outputs": [],
   "source": [
    "import sys\n",
    "sys.path.append('../')\n",
    "from scripts.utils import *\n",
    "import scripts.loss_functions as ls\n",
    "import tensorflow as tf\n",
    "import tensorflow.keras.backend as K\n",
    "from tensorflow.keras.callbacks import ModelCheckpoint, LearningRateScheduler\n",
    "from tensorflow.keras.applications.densenet import DenseNet121\n",
    "from tensorflow.keras.utils import plot_model\n",
    "from tensorflow.keras.applications.resnet50 import preprocess_input, decode_predictions\n",
    "from tensorflow.keras.models import Model\n",
    "from tensorflow.keras.layers import *\n",
    "import numpy as np\n",
    "from skimage.transform import rescale\n",
    "import matplotlib.pyplot as plt\n",
    "from sklearn.model_selection import train_test_split"
   ]
  },
  {
   "cell_type": "code",
   "execution_count": 2,
   "metadata": {},
   "outputs": [],
   "source": [
    "# from tensorflow.keras.preprocessing.image import ImageDataGenerator\n",
    "# from keras_contrib.layers import CRF"
   ]
  },
  {
   "cell_type": "code",
   "execution_count": 3,
   "metadata": {},
   "outputs": [],
   "source": [
    "train_path = '../data/train/'\n",
    "test_path = '../data/test/'"
   ]
  },
  {
   "cell_type": "code",
   "execution_count": 4,
   "metadata": {},
   "outputs": [],
   "source": [
    "%load_ext autoreload"
   ]
  },
  {
   "cell_type": "code",
   "execution_count": 21,
   "metadata": {},
   "outputs": [],
   "source": [
    "%autoreload 2\n",
    "from scripts.utils import i_m_generator, train_val_split"
   ]
  },
  {
   "cell_type": "code",
   "execution_count": 6,
   "metadata": {},
   "outputs": [],
   "source": [
    "filenames = os.listdir(train_path+'images/')"
   ]
  },
  {
   "cell_type": "code",
   "execution_count": 7,
   "metadata": {},
   "outputs": [],
   "source": [
    "tr, val = train_val_split(filenames)"
   ]
  },
  {
   "cell_type": "code",
   "execution_count": 8,
   "metadata": {},
   "outputs": [],
   "source": [
    "batch_size = 32"
   ]
  },
  {
   "cell_type": "code",
   "execution_count": 22,
   "metadata": {},
   "outputs": [],
   "source": [
    "train_gen = i_m_generator(train_path+'images/', tr, train_path+'masks/', train = True,\n",
    "                   crop = False, width_shift = False, horizontal_flip = True, batch_size = batch_size, dim = 224, ch = 3)\n",
    "val_gen = i_m_generator(train_path+'images/', val, train_path+'masks/', train = True,\n",
    "                   crop = False, width_shift = False, horizontal_flip = True, batch_size = batch_size, dim = 224, ch = 3)"
   ]
  },
  {
   "cell_type": "code",
   "execution_count": 40,
   "metadata": {},
   "outputs": [],
   "source": [
    "base_model = DenseNet121(weights='imagenet')"
   ]
  },
  {
   "cell_type": "code",
   "execution_count": 43,
   "metadata": {},
   "outputs": [],
   "source": [
    "dense_first_3_blocks = Model(base_model.input, outputs=base_model.get_layer('conv2_block3_concat').output)"
   ]
  },
  {
   "cell_type": "code",
   "execution_count": 44,
   "metadata": {},
   "outputs": [
    {
     "name": "stdout",
     "output_type": "stream",
     "text": [
      "__________________________________________________________________________________________________\n",
      "Layer (type)                    Output Shape         Param #     Connected to                     \n",
      "==================================================================================================\n",
      "input_3 (InputLayer)            (None, 224, 224, 3)  0                                            \n",
      "__________________________________________________________________________________________________\n",
      "zero_padding2d_4 (ZeroPadding2D (None, 230, 230, 3)  0           input_3[0][0]                    \n",
      "__________________________________________________________________________________________________\n",
      "conv1/conv (Conv2D)             (None, 112, 112, 64) 9408        zero_padding2d_4[0][0]           \n",
      "__________________________________________________________________________________________________\n",
      "conv1/bn (BatchNormalization)   (None, 112, 112, 64) 256         conv1/conv[0][0]                 \n",
      "__________________________________________________________________________________________________\n",
      "conv1/relu (Activation)         (None, 112, 112, 64) 0           conv1/bn[0][0]                   \n",
      "__________________________________________________________________________________________________\n",
      "zero_padding2d_5 (ZeroPadding2D (None, 114, 114, 64) 0           conv1/relu[0][0]                 \n",
      "__________________________________________________________________________________________________\n",
      "pool1 (MaxPooling2D)            (None, 56, 56, 64)   0           zero_padding2d_5[0][0]           \n",
      "__________________________________________________________________________________________________\n",
      "conv2_block1_0_bn (BatchNormali (None, 56, 56, 64)   256         pool1[0][0]                      \n",
      "__________________________________________________________________________________________________\n",
      "conv2_block1_0_relu (Activation (None, 56, 56, 64)   0           conv2_block1_0_bn[0][0]          \n",
      "__________________________________________________________________________________________________\n",
      "conv2_block1_1_conv (Conv2D)    (None, 56, 56, 128)  8192        conv2_block1_0_relu[0][0]        \n",
      "__________________________________________________________________________________________________\n",
      "conv2_block1_1_bn (BatchNormali (None, 56, 56, 128)  512         conv2_block1_1_conv[0][0]        \n",
      "__________________________________________________________________________________________________\n",
      "conv2_block1_1_relu (Activation (None, 56, 56, 128)  0           conv2_block1_1_bn[0][0]          \n",
      "__________________________________________________________________________________________________\n",
      "conv2_block1_2_conv (Conv2D)    (None, 56, 56, 32)   36864       conv2_block1_1_relu[0][0]        \n",
      "__________________________________________________________________________________________________\n",
      "conv2_block1_concat (Concatenat (None, 56, 56, 96)   0           pool1[0][0]                      \n",
      "                                                                 conv2_block1_2_conv[0][0]        \n",
      "__________________________________________________________________________________________________\n",
      "conv2_block2_0_bn (BatchNormali (None, 56, 56, 96)   384         conv2_block1_concat[0][0]        \n",
      "__________________________________________________________________________________________________\n",
      "conv2_block2_0_relu (Activation (None, 56, 56, 96)   0           conv2_block2_0_bn[0][0]          \n",
      "__________________________________________________________________________________________________\n",
      "conv2_block2_1_conv (Conv2D)    (None, 56, 56, 128)  12288       conv2_block2_0_relu[0][0]        \n",
      "__________________________________________________________________________________________________\n",
      "conv2_block2_1_bn (BatchNormali (None, 56, 56, 128)  512         conv2_block2_1_conv[0][0]        \n",
      "__________________________________________________________________________________________________\n",
      "conv2_block2_1_relu (Activation (None, 56, 56, 128)  0           conv2_block2_1_bn[0][0]          \n",
      "__________________________________________________________________________________________________\n",
      "conv2_block2_2_conv (Conv2D)    (None, 56, 56, 32)   36864       conv2_block2_1_relu[0][0]        \n",
      "__________________________________________________________________________________________________\n",
      "conv2_block2_concat (Concatenat (None, 56, 56, 128)  0           conv2_block1_concat[0][0]        \n",
      "                                                                 conv2_block2_2_conv[0][0]        \n",
      "__________________________________________________________________________________________________\n",
      "conv2_block3_0_bn (BatchNormali (None, 56, 56, 128)  512         conv2_block2_concat[0][0]        \n",
      "__________________________________________________________________________________________________\n",
      "conv2_block3_0_relu (Activation (None, 56, 56, 128)  0           conv2_block3_0_bn[0][0]          \n",
      "__________________________________________________________________________________________________\n",
      "conv2_block3_1_conv (Conv2D)    (None, 56, 56, 128)  16384       conv2_block3_0_relu[0][0]        \n",
      "__________________________________________________________________________________________________\n",
      "conv2_block3_1_bn (BatchNormali (None, 56, 56, 128)  512         conv2_block3_1_conv[0][0]        \n",
      "__________________________________________________________________________________________________\n",
      "conv2_block3_1_relu (Activation (None, 56, 56, 128)  0           conv2_block3_1_bn[0][0]          \n",
      "__________________________________________________________________________________________________\n",
      "conv2_block3_2_conv (Conv2D)    (None, 56, 56, 32)   36864       conv2_block3_1_relu[0][0]        \n",
      "__________________________________________________________________________________________________\n",
      "conv2_block3_concat (Concatenat (None, 56, 56, 160)  0           conv2_block2_concat[0][0]        \n",
      "                                                                 conv2_block3_2_conv[0][0]        \n",
      "==================================================================================================\n",
      "Total params: 159,808\n",
      "Trainable params: 158,336\n",
      "Non-trainable params: 1,472\n",
      "__________________________________________________________________________________________________\n"
     ]
    }
   ],
   "source": [
    "dense_first_3_blocks.summary()"
   ]
  },
  {
   "cell_type": "code",
   "execution_count": 33,
   "metadata": {},
   "outputs": [],
   "source": [
    "x = MaxPooling2D()(dense_first_3_blocks.output)\n",
    "x = Conv2D(256, 3, padding = 'same', activation = 'relu')(x)\n",
    "x = Conv2DTranspose(128, (2,2), strides = (2,2), padding = 'same', activation = 'relu')(x)\n",
    "x = Add()([block(128, x),x])\n",
    "x = Add()([block(128, x),x])\n",
    "x = Add()([block(128, x),x])\n",
    "x = concatenate([dense_first_3_blocks.get_layer(\"conv2_block3_0_bn\").output,x])\n",
    "x = Conv2DTranspose(64, (2,2), strides = (2,2), padding = 'same', activation = 'relu')(x)\n",
    "x = Add()([block(64, x),x])\n",
    "x = Add()([block(64, x),x])\n",
    "x = Add()([block(64, x),x])\n",
    "x = concatenate([dense_first_3_blocks.get_layer(\"conv1/relu\").output,x])\n",
    "x = Conv2D(64, 3, padding = 'same', activation = 'relu')(x)\n",
    "out = Conv2DTranspose(1, (2,2), strides = (2,2), padding = 'same')(x)"
   ]
  },
  {
   "cell_type": "code",
   "execution_count": 34,
   "metadata": {},
   "outputs": [],
   "source": [
    "model = Model(dense_first_3_blocks.input, out)\n",
    "#model.summary()"
   ]
  },
  {
   "cell_type": "code",
   "execution_count": 35,
   "metadata": {},
   "outputs": [],
   "source": [
    "for layer in model.layers[:26]:\n",
    "    layer.trainable = False"
   ]
  },
  {
   "cell_type": "code",
   "execution_count": 37,
   "metadata": {},
   "outputs": [],
   "source": [
    "model.compile(optimizer = 'adadelta', loss=ls.bce_dice_loss, metrics = [competitionMetric2])"
   ]
  },
  {
   "cell_type": "code",
   "execution_count": 38,
   "metadata": {},
   "outputs": [],
   "source": [
    "checkpointer = ModelCheckpoint('../models/model-tgs-salt-25_dense.h5', verbose=1, save_best_only=True)"
   ]
  },
  {
   "cell_type": "code",
   "execution_count": 39,
   "metadata": {},
   "outputs": [
    {
     "name": "stdout",
     "output_type": "stream",
     "text": [
      "Epoch 1/60\n",
      "111/112 [============================>.] - ETA: 0s - loss: 0.6969 - competitionMetric2: 0.4141\n",
      "Epoch 00001: val_loss improved from inf to 2.25036, saving model to ../models/model-tgs-salt-25_dense.h5\n",
      "112/112 [==============================] - 52s 464ms/step - loss: 0.6953 - competitionMetric2: 0.4132 - val_loss: 2.2504 - val_competitionMetric2: 0.1823\n",
      "Epoch 2/60\n",
      "111/112 [============================>.] - ETA: 0s - loss: 0.5199 - competitionMetric2: 0.5395\n",
      "Epoch 00002: val_loss improved from 2.25036 to 1.00120, saving model to ../models/model-tgs-salt-25_dense.h5\n",
      "112/112 [==============================] - 41s 368ms/step - loss: 0.5211 - competitionMetric2: 0.5398 - val_loss: 1.0012 - val_competitionMetric2: 0.3198\n",
      "Epoch 3/60\n",
      "111/112 [============================>.] - ETA: 0s - loss: 0.4745 - competitionMetric2: 0.5716\n",
      "Epoch 00003: val_loss improved from 1.00120 to 0.81129, saving model to ../models/model-tgs-salt-25_dense.h5\n",
      "112/112 [==============================] - 41s 363ms/step - loss: 0.4738 - competitionMetric2: 0.5720 - val_loss: 0.8113 - val_competitionMetric2: 0.3701\n",
      "Epoch 4/60\n",
      "111/112 [============================>.] - ETA: 0s - loss: 0.4521 - competitionMetric2: 0.5835\n",
      "Epoch 00004: val_loss did not improve from 0.81129\n",
      "112/112 [==============================] - 40s 361ms/step - loss: 0.4515 - competitionMetric2: 0.5830 - val_loss: 1.0520 - val_competitionMetric2: 0.3714\n",
      "Epoch 5/60\n",
      "111/112 [============================>.] - ETA: 0s - loss: 0.4295 - competitionMetric2: 0.6014\n",
      "Epoch 00005: val_loss did not improve from 0.81129\n",
      "112/112 [==============================] - 41s 362ms/step - loss: 0.4298 - competitionMetric2: 0.6004 - val_loss: 1.0229 - val_competitionMetric2: 0.3289\n",
      "Epoch 6/60\n",
      "111/112 [============================>.] - ETA: 0s - loss: 0.4142 - competitionMetric2: 0.6097\n",
      "Epoch 00006: val_loss did not improve from 0.81129\n",
      "112/112 [==============================] - 41s 365ms/step - loss: 0.4137 - competitionMetric2: 0.6101 - val_loss: 1.2785 - val_competitionMetric2: 0.3492\n",
      "Epoch 7/60\n",
      "111/112 [============================>.] - ETA: 0s - loss: 0.4152 - competitionMetric2: 0.6195\n",
      "Epoch 00007: val_loss did not improve from 0.81129\n",
      "112/112 [==============================] - 42s 373ms/step - loss: 0.4150 - competitionMetric2: 0.6201 - val_loss: 1.0334 - val_competitionMetric2: 0.3542\n",
      "Epoch 8/60\n",
      "111/112 [============================>.] - ETA: 0s - loss: 0.3934 - competitionMetric2: 0.6172\n",
      "Epoch 00008: val_loss did not improve from 0.81129\n",
      "112/112 [==============================] - 41s 367ms/step - loss: 0.3932 - competitionMetric2: 0.6169 - val_loss: 1.0556 - val_competitionMetric2: 0.3724\n",
      "Epoch 9/60\n",
      "111/112 [============================>.] - ETA: 0s - loss: 0.3896 - competitionMetric2: 0.6293\n",
      "Epoch 00009: val_loss did not improve from 0.81129\n",
      "112/112 [==============================] - 41s 370ms/step - loss: 0.3903 - competitionMetric2: 0.6296 - val_loss: 0.9792 - val_competitionMetric2: 0.3729\n",
      "Epoch 10/60\n",
      "111/112 [============================>.] - ETA: 0s - loss: 0.3807 - competitionMetric2: 0.6266\n",
      "Epoch 00010: val_loss did not improve from 0.81129\n",
      "112/112 [==============================] - 39s 349ms/step - loss: 0.3839 - competitionMetric2: 0.6243 - val_loss: 0.9889 - val_competitionMetric2: 0.3544\n",
      "Epoch 11/60\n",
      "111/112 [============================>.] - ETA: 0s - loss: 0.3724 - competitionMetric2: 0.6499\n",
      "Epoch 00011: val_loss did not improve from 0.81129\n",
      "112/112 [==============================] - 40s 354ms/step - loss: 0.3729 - competitionMetric2: 0.6500 - val_loss: 1.4452 - val_competitionMetric2: 0.3083\n",
      "Epoch 12/60\n",
      "111/112 [============================>.] - ETA: 0s - loss: 0.4010 - competitionMetric2: 0.6269\n",
      "Epoch 00012: val_loss did not improve from 0.81129\n",
      "112/112 [==============================] - 40s 360ms/step - loss: 0.4002 - competitionMetric2: 0.6271 - val_loss: 1.0143 - val_competitionMetric2: 0.3831\n",
      "Epoch 13/60\n",
      "111/112 [============================>.] - ETA: 0s - loss: 0.3446 - competitionMetric2: 0.6544\n",
      "Epoch 00013: val_loss did not improve from 0.81129\n",
      "112/112 [==============================] - 41s 366ms/step - loss: 0.3442 - competitionMetric2: 0.6538 - val_loss: 1.2940 - val_competitionMetric2: 0.3234\n",
      "Epoch 14/60\n",
      "111/112 [============================>.] - ETA: 0s - loss: 0.3791 - competitionMetric2: 0.6380\n",
      "Epoch 00014: val_loss did not improve from 0.81129\n",
      "112/112 [==============================] - 41s 363ms/step - loss: 0.3788 - competitionMetric2: 0.6389 - val_loss: 0.9805 - val_competitionMetric2: 0.4563\n",
      "Epoch 15/60\n",
      "111/112 [============================>.] - ETA: 0s - loss: 0.3564 - competitionMetric2: 0.6595\n",
      "Epoch 00015: val_loss did not improve from 0.81129\n",
      "112/112 [==============================] - 40s 353ms/step - loss: 0.3568 - competitionMetric2: 0.6597 - val_loss: 1.0468 - val_competitionMetric2: 0.3872\n",
      "Epoch 16/60\n",
      "111/112 [============================>.] - ETA: 0s - loss: 0.3307 - competitionMetric2: 0.6616\n",
      "Epoch 00016: val_loss did not improve from 0.81129\n",
      "112/112 [==============================] - 40s 360ms/step - loss: 0.3295 - competitionMetric2: 0.6616 - val_loss: 1.3382 - val_competitionMetric2: 0.3711\n",
      "Epoch 17/60\n",
      "111/112 [============================>.] - ETA: 0s - loss: 0.3460 - competitionMetric2: 0.6517\n",
      "Epoch 00017: val_loss did not improve from 0.81129\n",
      "112/112 [==============================] - 41s 367ms/step - loss: 0.3452 - competitionMetric2: 0.6524 - val_loss: 1.8156 - val_competitionMetric2: 0.4266\n",
      "Epoch 18/60\n",
      "111/112 [============================>.] - ETA: 0s - loss: 0.3491 - competitionMetric2: 0.6539\n",
      "Epoch 00018: val_loss did not improve from 0.81129\n",
      "112/112 [==============================] - 41s 366ms/step - loss: 0.3478 - competitionMetric2: 0.6547 - val_loss: 1.1965 - val_competitionMetric2: 0.4156\n",
      "Epoch 19/60\n",
      "111/112 [============================>.] - ETA: 0s - loss: 0.3344 - competitionMetric2: 0.6628\n",
      "Epoch 00019: val_loss did not improve from 0.81129\n",
      "112/112 [==============================] - 40s 358ms/step - loss: 0.3362 - competitionMetric2: 0.6622 - val_loss: 0.8530 - val_competitionMetric2: 0.4112\n",
      "Epoch 20/60\n",
      "111/112 [============================>.] - ETA: 0s - loss: 0.3306 - competitionMetric2: 0.6669\n",
      "Epoch 00020: val_loss did not improve from 0.81129\n",
      "112/112 [==============================] - 43s 381ms/step - loss: 0.3297 - competitionMetric2: 0.6686 - val_loss: 0.9475 - val_competitionMetric2: 0.3982\n",
      "Epoch 21/60\n",
      "111/112 [============================>.] - ETA: 0s - loss: 0.3310 - competitionMetric2: 0.6600\n",
      "Epoch 00021: val_loss did not improve from 0.81129\n",
      "112/112 [==============================] - 41s 366ms/step - loss: 0.3303 - competitionMetric2: 0.6604 - val_loss: 0.9340 - val_competitionMetric2: 0.3456\n",
      "Epoch 22/60\n",
      "111/112 [============================>.] - ETA: 0s - loss: 0.3218 - competitionMetric2: 0.6587\n",
      "Epoch 00022: val_loss did not improve from 0.81129\n",
      "112/112 [==============================] - 41s 369ms/step - loss: 0.3218 - competitionMetric2: 0.6587 - val_loss: 0.9032 - val_competitionMetric2: 0.4359\n",
      "Epoch 23/60\n",
      "111/112 [============================>.] - ETA: 0s - loss: 0.3094 - competitionMetric2: 0.6700\n",
      "Epoch 00023: val_loss did not improve from 0.81129\n",
      "112/112 [==============================] - 39s 345ms/step - loss: 0.3099 - competitionMetric2: 0.6696 - val_loss: 1.1330 - val_competitionMetric2: 0.4302\n",
      "Epoch 24/60\n",
      "111/112 [============================>.] - ETA: 0s - loss: 0.3184 - competitionMetric2: 0.6702\n",
      "Epoch 00024: val_loss did not improve from 0.81129\n",
      "112/112 [==============================] - 40s 361ms/step - loss: 0.3190 - competitionMetric2: 0.6699 - val_loss: 0.9804 - val_competitionMetric2: 0.4474\n",
      "Epoch 25/60\n",
      "111/112 [============================>.] - ETA: 0s - loss: 0.3030 - competitionMetric2: 0.6821\n",
      "Epoch 00025: val_loss did not improve from 0.81129\n",
      "112/112 [==============================] - 41s 368ms/step - loss: 0.3030 - competitionMetric2: 0.6818 - val_loss: 0.8911 - val_competitionMetric2: 0.4622\n",
      "Epoch 26/60\n",
      "111/112 [============================>.] - ETA: 0s - loss: 0.3052 - competitionMetric2: 0.6787\n",
      "Epoch 00026: val_loss did not improve from 0.81129\n",
      "112/112 [==============================] - 41s 364ms/step - loss: 0.3046 - competitionMetric2: 0.6785 - val_loss: 1.3013 - val_competitionMetric2: 0.4995\n",
      "Epoch 27/60\n",
      "111/112 [============================>.] - ETA: 0s - loss: 0.3131 - competitionMetric2: 0.6781\n",
      "Epoch 00027: val_loss did not improve from 0.81129\n",
      "112/112 [==============================] - 41s 370ms/step - loss: 0.3157 - competitionMetric2: 0.6757 - val_loss: 1.1284 - val_competitionMetric2: 0.4310\n",
      "Epoch 28/60\n",
      "111/112 [============================>.] - ETA: 0s - loss: 0.2924 - competitionMetric2: 0.6805\n",
      "Epoch 00028: val_loss did not improve from 0.81129\n",
      "112/112 [==============================] - 41s 369ms/step - loss: 0.2922 - competitionMetric2: 0.6797 - val_loss: 1.1141 - val_competitionMetric2: 0.4594\n",
      "Epoch 29/60\n",
      " 93/112 [=======================>......] - ETA: 6s - loss: 0.2834 - competitionMetric2: 0.6835"
     ]
    },
    {
     "ename": "KeyboardInterrupt",
     "evalue": "",
     "output_type": "error",
     "traceback": [
      "\u001b[0;31m---------------------------------------------------------------------------\u001b[0m",
      "\u001b[0;31mKeyboardInterrupt\u001b[0m                         Traceback (most recent call last)",
      "\u001b[0;32m<ipython-input-39-47e9f74c91d9>\u001b[0m in \u001b[0;36m<module>\u001b[0;34m()\u001b[0m\n\u001b[1;32m      5\u001b[0m                              \u001b[0mvalidation_data\u001b[0m \u001b[0;34m=\u001b[0m \u001b[0mval_gen\u001b[0m\u001b[0;34m,\u001b[0m\u001b[0;34m\u001b[0m\u001b[0m\n\u001b[1;32m      6\u001b[0m                              \u001b[0mvalidation_steps\u001b[0m \u001b[0;34m=\u001b[0m \u001b[0mlen\u001b[0m\u001b[0;34m(\u001b[0m\u001b[0mval\u001b[0m\u001b[0;34m)\u001b[0m\u001b[0;34m//\u001b[0m\u001b[0mbatch_size\u001b[0m\u001b[0;34m,\u001b[0m\u001b[0;34m\u001b[0m\u001b[0m\n\u001b[0;32m----> 7\u001b[0;31m                              shuffle = True)\n\u001b[0m",
      "\u001b[0;32m~/.conda/envs/tensorflow/lib/python3.6/site-packages/tensorflow/python/keras/engine/training.py\u001b[0m in \u001b[0;36mfit_generator\u001b[0;34m(self, generator, steps_per_epoch, epochs, verbose, callbacks, validation_data, validation_steps, class_weight, max_queue_size, workers, use_multiprocessing, shuffle, initial_epoch)\u001b[0m\n\u001b[1;32m   1777\u001b[0m         \u001b[0muse_multiprocessing\u001b[0m\u001b[0;34m=\u001b[0m\u001b[0muse_multiprocessing\u001b[0m\u001b[0;34m,\u001b[0m\u001b[0;34m\u001b[0m\u001b[0m\n\u001b[1;32m   1778\u001b[0m         \u001b[0mshuffle\u001b[0m\u001b[0;34m=\u001b[0m\u001b[0mshuffle\u001b[0m\u001b[0;34m,\u001b[0m\u001b[0;34m\u001b[0m\u001b[0m\n\u001b[0;32m-> 1779\u001b[0;31m         initial_epoch=initial_epoch)\n\u001b[0m\u001b[1;32m   1780\u001b[0m \u001b[0;34m\u001b[0m\u001b[0m\n\u001b[1;32m   1781\u001b[0m   def evaluate_generator(self,\n",
      "\u001b[0;32m~/.conda/envs/tensorflow/lib/python3.6/site-packages/tensorflow/python/keras/engine/training_generator.py\u001b[0m in \u001b[0;36mfit_generator\u001b[0;34m(model, generator, steps_per_epoch, epochs, verbose, callbacks, validation_data, validation_steps, class_weight, max_queue_size, workers, use_multiprocessing, shuffle, initial_epoch)\u001b[0m\n\u001b[1;32m    202\u001b[0m \u001b[0;34m\u001b[0m\u001b[0m\n\u001b[1;32m    203\u001b[0m         outs = model.train_on_batch(\n\u001b[0;32m--> 204\u001b[0;31m             x, y, sample_weight=sample_weight, class_weight=class_weight)\n\u001b[0m\u001b[1;32m    205\u001b[0m \u001b[0;34m\u001b[0m\u001b[0m\n\u001b[1;32m    206\u001b[0m         \u001b[0;32mif\u001b[0m \u001b[0;32mnot\u001b[0m \u001b[0misinstance\u001b[0m\u001b[0;34m(\u001b[0m\u001b[0mouts\u001b[0m\u001b[0;34m,\u001b[0m \u001b[0mlist\u001b[0m\u001b[0;34m)\u001b[0m\u001b[0;34m:\u001b[0m\u001b[0;34m\u001b[0m\u001b[0m\n",
      "\u001b[0;32m~/.conda/envs/tensorflow/lib/python3.6/site-packages/tensorflow/python/keras/engine/training.py\u001b[0m in \u001b[0;36mtrain_on_batch\u001b[0;34m(self, x, y, sample_weight, class_weight)\u001b[0m\n\u001b[1;32m   1550\u001b[0m \u001b[0;34m\u001b[0m\u001b[0m\n\u001b[1;32m   1551\u001b[0m       \u001b[0mself\u001b[0m\u001b[0;34m.\u001b[0m\u001b[0m_make_train_function\u001b[0m\u001b[0;34m(\u001b[0m\u001b[0;34m)\u001b[0m\u001b[0;34m\u001b[0m\u001b[0m\n\u001b[0;32m-> 1552\u001b[0;31m       \u001b[0moutputs\u001b[0m \u001b[0;34m=\u001b[0m \u001b[0mself\u001b[0m\u001b[0;34m.\u001b[0m\u001b[0mtrain_function\u001b[0m\u001b[0;34m(\u001b[0m\u001b[0mins\u001b[0m\u001b[0;34m)\u001b[0m\u001b[0;34m\u001b[0m\u001b[0m\n\u001b[0m\u001b[1;32m   1553\u001b[0m \u001b[0;34m\u001b[0m\u001b[0m\n\u001b[1;32m   1554\u001b[0m     \u001b[0;32mif\u001b[0m \u001b[0mlen\u001b[0m\u001b[0;34m(\u001b[0m\u001b[0moutputs\u001b[0m\u001b[0;34m)\u001b[0m \u001b[0;34m==\u001b[0m \u001b[0;36m1\u001b[0m\u001b[0;34m:\u001b[0m\u001b[0;34m\u001b[0m\u001b[0m\n",
      "\u001b[0;32m~/.conda/envs/tensorflow/lib/python3.6/site-packages/tensorflow/python/keras/backend.py\u001b[0m in \u001b[0;36m__call__\u001b[0;34m(self, inputs)\u001b[0m\n\u001b[1;32m   2912\u001b[0m       \u001b[0mself\u001b[0m\u001b[0;34m.\u001b[0m\u001b[0m_make_callable\u001b[0m\u001b[0;34m(\u001b[0m\u001b[0mfeed_arrays\u001b[0m\u001b[0;34m,\u001b[0m \u001b[0mfeed_symbols\u001b[0m\u001b[0;34m,\u001b[0m \u001b[0msymbol_vals\u001b[0m\u001b[0;34m,\u001b[0m \u001b[0msession\u001b[0m\u001b[0;34m)\u001b[0m\u001b[0;34m\u001b[0m\u001b[0m\n\u001b[1;32m   2913\u001b[0m \u001b[0;34m\u001b[0m\u001b[0m\n\u001b[0;32m-> 2914\u001b[0;31m     \u001b[0mfetched\u001b[0m \u001b[0;34m=\u001b[0m \u001b[0mself\u001b[0m\u001b[0;34m.\u001b[0m\u001b[0m_callable_fn\u001b[0m\u001b[0;34m(\u001b[0m\u001b[0;34m*\u001b[0m\u001b[0marray_vals\u001b[0m\u001b[0;34m)\u001b[0m\u001b[0;34m\u001b[0m\u001b[0m\n\u001b[0m\u001b[1;32m   2915\u001b[0m     \u001b[0mself\u001b[0m\u001b[0;34m.\u001b[0m\u001b[0m_call_fetch_callbacks\u001b[0m\u001b[0;34m(\u001b[0m\u001b[0mfetched\u001b[0m\u001b[0;34m[\u001b[0m\u001b[0;34m-\u001b[0m\u001b[0mlen\u001b[0m\u001b[0;34m(\u001b[0m\u001b[0mself\u001b[0m\u001b[0;34m.\u001b[0m\u001b[0m_fetches\u001b[0m\u001b[0;34m)\u001b[0m\u001b[0;34m:\u001b[0m\u001b[0;34m]\u001b[0m\u001b[0;34m)\u001b[0m\u001b[0;34m\u001b[0m\u001b[0m\n\u001b[1;32m   2916\u001b[0m     \u001b[0;32mreturn\u001b[0m \u001b[0mfetched\u001b[0m\u001b[0;34m[\u001b[0m\u001b[0;34m:\u001b[0m\u001b[0mlen\u001b[0m\u001b[0;34m(\u001b[0m\u001b[0mself\u001b[0m\u001b[0;34m.\u001b[0m\u001b[0moutputs\u001b[0m\u001b[0;34m)\u001b[0m\u001b[0;34m]\u001b[0m\u001b[0;34m\u001b[0m\u001b[0m\n",
      "\u001b[0;32m~/.conda/envs/tensorflow/lib/python3.6/site-packages/tensorflow/python/client/session.py\u001b[0m in \u001b[0;36m__call__\u001b[0;34m(self, *args, **kwargs)\u001b[0m\n\u001b[1;32m   1380\u001b[0m           ret = tf_session.TF_SessionRunCallable(\n\u001b[1;32m   1381\u001b[0m               \u001b[0mself\u001b[0m\u001b[0;34m.\u001b[0m\u001b[0m_session\u001b[0m\u001b[0;34m.\u001b[0m\u001b[0m_session\u001b[0m\u001b[0;34m,\u001b[0m \u001b[0mself\u001b[0m\u001b[0;34m.\u001b[0m\u001b[0m_handle\u001b[0m\u001b[0;34m,\u001b[0m \u001b[0margs\u001b[0m\u001b[0;34m,\u001b[0m \u001b[0mstatus\u001b[0m\u001b[0;34m,\u001b[0m\u001b[0;34m\u001b[0m\u001b[0m\n\u001b[0;32m-> 1382\u001b[0;31m               run_metadata_ptr)\n\u001b[0m\u001b[1;32m   1383\u001b[0m         \u001b[0;32mif\u001b[0m \u001b[0mrun_metadata\u001b[0m\u001b[0;34m:\u001b[0m\u001b[0;34m\u001b[0m\u001b[0m\n\u001b[1;32m   1384\u001b[0m           \u001b[0mproto_data\u001b[0m \u001b[0;34m=\u001b[0m \u001b[0mtf_session\u001b[0m\u001b[0;34m.\u001b[0m\u001b[0mTF_GetBuffer\u001b[0m\u001b[0;34m(\u001b[0m\u001b[0mrun_metadata_ptr\u001b[0m\u001b[0;34m)\u001b[0m\u001b[0;34m\u001b[0m\u001b[0m\n",
      "\u001b[0;31mKeyboardInterrupt\u001b[0m: "
     ]
    }
   ],
   "source": [
    "history = model.fit_generator(train_gen,\n",
    "                             steps_per_epoch = len(tr)//batch_size,\n",
    "                             epochs = 60,\n",
    "                             callbacks = [checkpointer],\n",
    "                             validation_data = val_gen,\n",
    "                             validation_steps = len(val)//batch_size,\n",
    "                             shuffle = True)"
   ]
  },
  {
   "cell_type": "code",
   "execution_count": 275,
   "metadata": {},
   "outputs": [],
   "source": [
    "model.load_weights('../models/model-tgs-salt-25_dense.h5')"
   ]
  },
  {
   "cell_type": "code",
   "execution_count": null,
   "metadata": {},
   "outputs": [],
   "source": [
    "# plot\n",
    "print(history.history.keys())\n",
    "# summarize history for accuracy\n",
    "plt.plot(history.history['competitionMetric2'])\n",
    "plt.plot(history.history['val_competitionMetric2'])\n",
    "plt.title('model accuracy')\n",
    "plt.ylabel('mean_iou')\n",
    "plt.xlabel('epoch')\n",
    "plt.legend(['train', 'val'], loc='upper left')\n",
    "#plt.savefig('graphs/ctc_{}_acc.png'.format(date),bbox_inches='tight')\n",
    "plt.show()"
   ]
  },
  {
   "cell_type": "code",
   "execution_count": null,
   "metadata": {},
   "outputs": [],
   "source": [
    "# summarize history for loss\n",
    "plt.plot(history.history['loss'])\n",
    "plt.plot(history.history['val_loss'])\n",
    "plt.title('model loss')\n",
    "plt.ylabel('loss')\n",
    "plt.xlabel('epoch')\n",
    "plt.legend(['train', 'test'], loc='upper left')\n",
    "#plt.savefig('graphs/ctc_{}_loss.png'.format(date), bbox_inches='tight')\n",
    "plt.show()"
   ]
  },
  {
   "cell_type": "code",
   "execution_count": 277,
   "metadata": {},
   "outputs": [],
   "source": [
    "val_genn = i_m_generator(train_path+'images/', val, train_path+'masks/', train = True, shuffle = False,\n",
    "                   crop = False, width_shift = False, horizontal_flip = True, batch_size = batch_size)\n"
   ]
  },
  {
   "cell_type": "code",
   "execution_count": 278,
   "metadata": {},
   "outputs": [
    {
     "name": "stderr",
     "output_type": "stream",
     "text": [
      "/home/chris/.conda/envs/tensorflow/lib/python3.6/site-packages/skimage/transform/_warps.py:105: UserWarning: The default mode, 'constant', will be changed to 'reflect' in skimage 0.15.\n",
      "  warn(\"The default mode, 'constant', will be changed to 'reflect' in \"\n",
      "/home/chris/.conda/envs/tensorflow/lib/python3.6/site-packages/skimage/transform/_warps.py:110: UserWarning: Anti-aliasing will be enabled by default in skimage 0.15 to avoid aliasing artifacts when down-sampling images.\n",
      "  warn(\"Anti-aliasing will be enabled by default in skimage 0.15 to \"\n"
     ]
    }
   ],
   "source": [
    "X_val_pred = model.predict_generator(val_genn, steps = len(val)/batch_size)"
   ]
  },
  {
   "cell_type": "code",
   "execution_count": 279,
   "metadata": {},
   "outputs": [
    {
     "data": {
      "text/plain": [
       "<matplotlib.image.AxesImage at 0x7fc591129f28>"
      ]
     },
     "execution_count": 279,
     "metadata": {},
     "output_type": "execute_result"
    },
    {
     "data": {
      "image/png": "[encoded data removed]",
      "text/plain": [
       "<Figure size 432x288 with 1 Axes>"
      ]
     },
     "metadata": {
      "needs_background": "light"
     },
     "output_type": "display_data"
    }
   ],
   "source": [
    "img = 34\n",
    "# plt.subplot(121)\n",
    "# plt.imshow(Y_val[img,:,:,0])\n",
    "# plt.subplot(122)\n",
    "plt.imshow(X_val_pred[img,:,:,0]>0.2)"
   ]
  },
  {
   "cell_type": "code",
   "execution_count": null,
   "metadata": {},
   "outputs": [],
   "source": [
    "X_test = load_images(test_path, train=False)"
   ]
  },
  {
   "cell_type": "code",
   "execution_count": null,
   "metadata": {},
   "outputs": [],
   "source": [
    "X_test = np.array([np.pad(rescale(x, 2),((11,11),(11,11),(0,0)), mode = 'constant') for x in X_test], dtype = np.float32)"
   ]
  },
  {
   "cell_type": "code",
   "execution_count": null,
   "metadata": {},
   "outputs": [],
   "source": [
    "X_test_flip = np.array([np.fliplr(x) for x in X_test])"
   ]
  },
  {
   "cell_type": "code",
   "execution_count": null,
   "metadata": {},
   "outputs": [],
   "source": [
    "X_test = np.vstack((X_test, X_test_flip))"
   ]
  },
  {
   "cell_type": "code",
   "execution_count": null,
   "metadata": {},
   "outputs": [],
   "source": [
    "Y_test_pred = model.predict(X_test, batch_size=32, verbose = 1)"
   ]
  },
  {
   "cell_type": "code",
   "execution_count": 36,
   "metadata": {},
   "outputs": [],
   "source": [
    "#flip back and take mean\n",
    "Y_test_pred = (Y_test_pred[:18000]+np.array([np.fliplr(x) for x in Y_test_pred[18000]]))/2"
   ]
  },
  {
   "cell_type": "code",
   "execution_count": 37,
   "metadata": {},
   "outputs": [],
   "source": [
    "Y_test_pred = unpad(Y_test_pred)>0.5"
   ]
  },
  {
   "cell_type": "code",
   "execution_count": 38,
   "metadata": {},
   "outputs": [
    {
     "data": {
      "text/plain": [
       "(18000, 1, 101, 101)"
      ]
     },
     "execution_count": 38,
     "metadata": {},
     "output_type": "execute_result"
    }
   ],
   "source": [
    "Y_test_pred.shape"
   ]
  },
  {
   "cell_type": "code",
   "execution_count": 39,
   "metadata": {},
   "outputs": [
    {
     "data": {
      "text/plain": [
       "<matplotlib.image.AxesImage at 0x7fd0231e49b0>"
      ]
     },
     "execution_count": 39,
     "metadata": {},
     "output_type": "execute_result"
    },
    {
     "data": {
      "image/png": "[encoded data removed]",
      "text/plain": [
       "<Figure size 432x288 with 1 Axes>"
      ]
     },
     "metadata": {},
     "output_type": "display_data"
    }
   ],
   "source": [
    "plt.imshow(Y_test_pred[5,0,:,:])"
   ]
  },
  {
   "cell_type": "code",
   "execution_count": 40,
   "metadata": {},
   "outputs": [],
   "source": [
    "Y_test_rle = [rle_encode(x) for x in Y_test_pred[:,0,:,:]]"
   ]
  },
  {
   "cell_type": "code",
   "execution_count": 41,
   "metadata": {},
   "outputs": [
    {
     "data": {
      "text/plain": [
       "'1 94 102 94 203 93 304 92 405 90 506 89 607 87 708 86 807 1 809 85 905 4 910 84 1004 6 1011 82 1104 7 1112 80 1204 8 1213 78 1305 8 1314 76 1406 8 1415 74 1508 7 1516 72 1611 5 1617 70 1712 5 1718 68 1814 4 1819 66 1918 1 1920 64 2021 62 2122 60 2223 58 2324 55 2425 53 2526 52 2627 50 2728 46 2829 41 2930 38 3031 36 3132 33 3233 31 3334 29 3435 26 3536 24 3637 22 3738 18 3839 14 3940 8 4042 3'"
      ]
     },
     "execution_count": 41,
     "metadata": {},
     "output_type": "execute_result"
    }
   ],
   "source": [
    "Y_test_rle[5]"
   ]
  },
  {
   "cell_type": "code",
   "execution_count": 42,
   "metadata": {},
   "outputs": [],
   "source": [
    "pred_dict = {file[:-4]:Y_test_rle[i] for i, file in enumerate(os.listdir(test_path+'images'))}"
   ]
  },
  {
   "cell_type": "code",
   "execution_count": 43,
   "metadata": {},
   "outputs": [],
   "source": [
    "import pandas as pd\n",
    "sub = pd.DataFrame.from_dict(pred_dict, orient = 'index')\n",
    "sub.index.names = ['id']\n",
    "sub.columns = ['rle_mask']"
   ]
  },
  {
   "cell_type": "code",
   "execution_count": 44,
   "metadata": {},
   "outputs": [],
   "source": [
    "sub.to_csv('../submissions/submission_10.csv')"
   ]
  },
  {
   "cell_type": "markdown",
   "metadata": {},
   "source": []
  }
 ],
 "metadata": {
  "kernelspec": {
   "display_name": "Python 3",
   "language": "python",
   "name": "python3"
  },
  "language_info": {
   "codemirror_mode": {
    "name": "ipython",
    "version": 3
   },
   "file_extension": ".py",
   "mimetype": "text/x-python",
   "name": "python",
   "nbconvert_exporter": "python",
   "pygments_lexer": "ipython3",
   "version": "3.7.0"
  }
 },
 "nbformat": 4,
 "nbformat_minor": 2
}
